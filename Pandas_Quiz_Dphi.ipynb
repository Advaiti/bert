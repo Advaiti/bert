{
  "nbformat": 4,
  "nbformat_minor": 0,
  "metadata": {
    "colab": {
      "name": "Pandas_Quiz_Dphi.ipynb",
      "provenance": [],
      "collapsed_sections": [],
      "authorship_tag": "ABX9TyNcksEx4veC3KzcV4mw7P7k",
      "include_colab_link": true
    },
    "kernelspec": {
      "name": "python3",
      "display_name": "Python 3"
    },
    "language_info": {
      "name": "python"
    }
  },
  "cells": [
    {
      "cell_type": "markdown",
      "metadata": {
        "id": "view-in-github",
        "colab_type": "text"
      },
      "source": [
        "<a href=\"https://colab.research.google.com/github/Advaiti/bert/blob/master/Pandas_Quiz_Dphi.ipynb\" target=\"_parent\"><img src=\"https://colab.research.google.com/assets/colab-badge.svg\" alt=\"Open In Colab\"/></a>"
      ]
    },
    {
      "cell_type": "code",
      "metadata": {
        "id": "azhrJ5U3rJuZ"
      },
      "source": [
        "import pandas as pd\n",
        "import numpy as np"
      ],
      "execution_count": 22,
      "outputs": []
    },
    {
      "cell_type": "code",
      "metadata": {
        "id": "HCl8xkVArNks"
      },
      "source": [
        "ckd_data = pd.read_csv(\"https://raw.githubusercontent.com/dphi-official/Datasets/master/Chronic%20Kidney%20Disease%20(CKD)%20Dataset/ChronicKidneyDisease.csv\")"
      ],
      "execution_count": 23,
      "outputs": []
    },
    {
      "cell_type": "code",
      "metadata": {
        "colab": {
          "base_uri": "https://localhost:8080/",
          "height": 226
        },
        "id": "zFZFKKBZrQ7W",
        "outputId": "7612055c-1891-49db-f865-7c1a75b05c8c"
      },
      "source": [
        "ckd_data.head()"
      ],
      "execution_count": 24,
      "outputs": [
        {
          "output_type": "execute_result",
          "data": {
            "text/html": [
              "<div>\n",
              "<style scoped>\n",
              "    .dataframe tbody tr th:only-of-type {\n",
              "        vertical-align: middle;\n",
              "    }\n",
              "\n",
              "    .dataframe tbody tr th {\n",
              "        vertical-align: top;\n",
              "    }\n",
              "\n",
              "    .dataframe thead th {\n",
              "        text-align: right;\n",
              "    }\n",
              "</style>\n",
              "<table border=\"1\" class=\"dataframe\">\n",
              "  <thead>\n",
              "    <tr style=\"text-align: right;\">\n",
              "      <th></th>\n",
              "      <th>id</th>\n",
              "      <th>age</th>\n",
              "      <th>bp</th>\n",
              "      <th>sg</th>\n",
              "      <th>al</th>\n",
              "      <th>su</th>\n",
              "      <th>rbc</th>\n",
              "      <th>pc</th>\n",
              "      <th>pcc</th>\n",
              "      <th>ba</th>\n",
              "      <th>bgr</th>\n",
              "      <th>bu</th>\n",
              "      <th>sc</th>\n",
              "      <th>sod</th>\n",
              "      <th>pot</th>\n",
              "      <th>hemo</th>\n",
              "      <th>pcv</th>\n",
              "      <th>wc</th>\n",
              "      <th>rc</th>\n",
              "      <th>htn</th>\n",
              "      <th>dm</th>\n",
              "      <th>cad</th>\n",
              "      <th>appet</th>\n",
              "      <th>pe</th>\n",
              "      <th>ane</th>\n",
              "      <th>classification</th>\n",
              "    </tr>\n",
              "  </thead>\n",
              "  <tbody>\n",
              "    <tr>\n",
              "      <th>0</th>\n",
              "      <td>0</td>\n",
              "      <td>48.0</td>\n",
              "      <td>80.0</td>\n",
              "      <td>1.020</td>\n",
              "      <td>1.0</td>\n",
              "      <td>0.0</td>\n",
              "      <td>NaN</td>\n",
              "      <td>normal</td>\n",
              "      <td>notpresent</td>\n",
              "      <td>notpresent</td>\n",
              "      <td>121.0</td>\n",
              "      <td>36.0</td>\n",
              "      <td>1.2</td>\n",
              "      <td>NaN</td>\n",
              "      <td>NaN</td>\n",
              "      <td>15.4</td>\n",
              "      <td>44</td>\n",
              "      <td>7800</td>\n",
              "      <td>5.2</td>\n",
              "      <td>yes</td>\n",
              "      <td>yes</td>\n",
              "      <td>no</td>\n",
              "      <td>good</td>\n",
              "      <td>no</td>\n",
              "      <td>no</td>\n",
              "      <td>ckd</td>\n",
              "    </tr>\n",
              "    <tr>\n",
              "      <th>1</th>\n",
              "      <td>1</td>\n",
              "      <td>7.0</td>\n",
              "      <td>50.0</td>\n",
              "      <td>1.020</td>\n",
              "      <td>4.0</td>\n",
              "      <td>0.0</td>\n",
              "      <td>NaN</td>\n",
              "      <td>normal</td>\n",
              "      <td>notpresent</td>\n",
              "      <td>notpresent</td>\n",
              "      <td>NaN</td>\n",
              "      <td>18.0</td>\n",
              "      <td>0.8</td>\n",
              "      <td>NaN</td>\n",
              "      <td>NaN</td>\n",
              "      <td>11.3</td>\n",
              "      <td>38</td>\n",
              "      <td>6000</td>\n",
              "      <td>NaN</td>\n",
              "      <td>no</td>\n",
              "      <td>no</td>\n",
              "      <td>no</td>\n",
              "      <td>good</td>\n",
              "      <td>no</td>\n",
              "      <td>no</td>\n",
              "      <td>ckd</td>\n",
              "    </tr>\n",
              "    <tr>\n",
              "      <th>2</th>\n",
              "      <td>2</td>\n",
              "      <td>62.0</td>\n",
              "      <td>80.0</td>\n",
              "      <td>1.010</td>\n",
              "      <td>2.0</td>\n",
              "      <td>3.0</td>\n",
              "      <td>normal</td>\n",
              "      <td>normal</td>\n",
              "      <td>notpresent</td>\n",
              "      <td>notpresent</td>\n",
              "      <td>423.0</td>\n",
              "      <td>53.0</td>\n",
              "      <td>1.8</td>\n",
              "      <td>NaN</td>\n",
              "      <td>NaN</td>\n",
              "      <td>9.6</td>\n",
              "      <td>31</td>\n",
              "      <td>7500</td>\n",
              "      <td>NaN</td>\n",
              "      <td>no</td>\n",
              "      <td>yes</td>\n",
              "      <td>no</td>\n",
              "      <td>poor</td>\n",
              "      <td>no</td>\n",
              "      <td>yes</td>\n",
              "      <td>ckd</td>\n",
              "    </tr>\n",
              "    <tr>\n",
              "      <th>3</th>\n",
              "      <td>3</td>\n",
              "      <td>48.0</td>\n",
              "      <td>70.0</td>\n",
              "      <td>1.005</td>\n",
              "      <td>4.0</td>\n",
              "      <td>0.0</td>\n",
              "      <td>normal</td>\n",
              "      <td>abnormal</td>\n",
              "      <td>present</td>\n",
              "      <td>notpresent</td>\n",
              "      <td>117.0</td>\n",
              "      <td>56.0</td>\n",
              "      <td>3.8</td>\n",
              "      <td>111.0</td>\n",
              "      <td>2.5</td>\n",
              "      <td>11.2</td>\n",
              "      <td>32</td>\n",
              "      <td>6700</td>\n",
              "      <td>3.9</td>\n",
              "      <td>yes</td>\n",
              "      <td>no</td>\n",
              "      <td>no</td>\n",
              "      <td>poor</td>\n",
              "      <td>yes</td>\n",
              "      <td>yes</td>\n",
              "      <td>ckd</td>\n",
              "    </tr>\n",
              "    <tr>\n",
              "      <th>4</th>\n",
              "      <td>4</td>\n",
              "      <td>51.0</td>\n",
              "      <td>80.0</td>\n",
              "      <td>1.010</td>\n",
              "      <td>2.0</td>\n",
              "      <td>0.0</td>\n",
              "      <td>normal</td>\n",
              "      <td>normal</td>\n",
              "      <td>notpresent</td>\n",
              "      <td>notpresent</td>\n",
              "      <td>106.0</td>\n",
              "      <td>26.0</td>\n",
              "      <td>1.4</td>\n",
              "      <td>NaN</td>\n",
              "      <td>NaN</td>\n",
              "      <td>11.6</td>\n",
              "      <td>35</td>\n",
              "      <td>7300</td>\n",
              "      <td>4.6</td>\n",
              "      <td>no</td>\n",
              "      <td>no</td>\n",
              "      <td>no</td>\n",
              "      <td>good</td>\n",
              "      <td>no</td>\n",
              "      <td>no</td>\n",
              "      <td>ckd</td>\n",
              "    </tr>\n",
              "  </tbody>\n",
              "</table>\n",
              "</div>"
            ],
            "text/plain": [
              "   id   age    bp     sg   al   su  ...   dm cad appet   pe  ane  classification\n",
              "0   0  48.0  80.0  1.020  1.0  0.0  ...  yes  no  good   no   no             ckd\n",
              "1   1   7.0  50.0  1.020  4.0  0.0  ...   no  no  good   no   no             ckd\n",
              "2   2  62.0  80.0  1.010  2.0  3.0  ...  yes  no  poor   no  yes             ckd\n",
              "3   3  48.0  70.0  1.005  4.0  0.0  ...   no  no  poor  yes  yes             ckd\n",
              "4   4  51.0  80.0  1.010  2.0  0.0  ...   no  no  good   no   no             ckd\n",
              "\n",
              "[5 rows x 26 columns]"
            ]
          },
          "metadata": {},
          "execution_count": 24
        }
      ]
    },
    {
      "cell_type": "code",
      "metadata": {
        "colab": {
          "base_uri": "https://localhost:8080/"
        },
        "id": "xjjpl4ahruZp",
        "outputId": "85e1204f-d7a6-4dda-d31d-61f879224d39"
      },
      "source": [
        "ckd_data.dtypes.value_counts()"
      ],
      "execution_count": 9,
      "outputs": [
        {
          "output_type": "execute_result",
          "data": {
            "text/plain": [
              "object     14\n",
              "float64    11\n",
              "int64       1\n",
              "dtype: int64"
            ]
          },
          "metadata": {},
          "execution_count": 9
        }
      ]
    },
    {
      "cell_type": "code",
      "metadata": {
        "colab": {
          "base_uri": "https://localhost:8080/"
        },
        "id": "0emgQqWesqFO",
        "outputId": "43857fed-a400-4904-9086-e6a61b089c99"
      },
      "source": [
        "ckd_data.classification.value_counts()"
      ],
      "execution_count": 10,
      "outputs": [
        {
          "output_type": "execute_result",
          "data": {
            "text/plain": [
              "ckd       248\n",
              "notckd    150\n",
              "ckd\\t       2\n",
              "Name: classification, dtype: int64"
            ]
          },
          "metadata": {},
          "execution_count": 10
        }
      ]
    },
    {
      "cell_type": "code",
      "metadata": {
        "id": "HZg_ykVis_FZ"
      },
      "source": [
        "data2 = ckd_data.loc[247:253, [\"id\", \"age\", \"classification\"]]"
      ],
      "execution_count": 13,
      "outputs": []
    },
    {
      "cell_type": "code",
      "metadata": {
        "colab": {
          "base_uri": "https://localhost:8080/",
          "height": 269
        },
        "id": "QqZI-uPNtDTc",
        "outputId": "1652e14d-1380-4a44-c926-7eb3352e90ef"
      },
      "source": [
        "data2"
      ],
      "execution_count": 14,
      "outputs": [
        {
          "output_type": "execute_result",
          "data": {
            "text/html": [
              "<div>\n",
              "<style scoped>\n",
              "    .dataframe tbody tr th:only-of-type {\n",
              "        vertical-align: middle;\n",
              "    }\n",
              "\n",
              "    .dataframe tbody tr th {\n",
              "        vertical-align: top;\n",
              "    }\n",
              "\n",
              "    .dataframe thead th {\n",
              "        text-align: right;\n",
              "    }\n",
              "</style>\n",
              "<table border=\"1\" class=\"dataframe\">\n",
              "  <thead>\n",
              "    <tr style=\"text-align: right;\">\n",
              "      <th></th>\n",
              "      <th>id</th>\n",
              "      <th>age</th>\n",
              "      <th>classification</th>\n",
              "    </tr>\n",
              "  </thead>\n",
              "  <tbody>\n",
              "    <tr>\n",
              "      <th>247</th>\n",
              "      <td>247</td>\n",
              "      <td>54.0</td>\n",
              "      <td>ckd</td>\n",
              "    </tr>\n",
              "    <tr>\n",
              "      <th>248</th>\n",
              "      <td>248</td>\n",
              "      <td>59.0</td>\n",
              "      <td>ckd</td>\n",
              "    </tr>\n",
              "    <tr>\n",
              "      <th>249</th>\n",
              "      <td>249</td>\n",
              "      <td>56.0</td>\n",
              "      <td>ckd</td>\n",
              "    </tr>\n",
              "    <tr>\n",
              "      <th>250</th>\n",
              "      <td>250</td>\n",
              "      <td>40.0</td>\n",
              "      <td>notckd</td>\n",
              "    </tr>\n",
              "    <tr>\n",
              "      <th>251</th>\n",
              "      <td>251</td>\n",
              "      <td>23.0</td>\n",
              "      <td>notckd</td>\n",
              "    </tr>\n",
              "    <tr>\n",
              "      <th>252</th>\n",
              "      <td>252</td>\n",
              "      <td>45.0</td>\n",
              "      <td>notckd</td>\n",
              "    </tr>\n",
              "    <tr>\n",
              "      <th>253</th>\n",
              "      <td>253</td>\n",
              "      <td>57.0</td>\n",
              "      <td>notckd</td>\n",
              "    </tr>\n",
              "  </tbody>\n",
              "</table>\n",
              "</div>"
            ],
            "text/plain": [
              "      id   age classification\n",
              "247  247  54.0            ckd\n",
              "248  248  59.0            ckd\n",
              "249  249  56.0            ckd\n",
              "250  250  40.0         notckd\n",
              "251  251  23.0         notckd\n",
              "252  252  45.0         notckd\n",
              "253  253  57.0         notckd"
            ]
          },
          "metadata": {},
          "execution_count": 14
        }
      ]
    },
    {
      "cell_type": "code",
      "metadata": {
        "colab": {
          "base_uri": "https://localhost:8080/"
        },
        "id": "5e668d5ctYHe",
        "outputId": "49ee6e36-5b18-4f40-8a0a-49508c34bcb3"
      },
      "source": [
        "ckd_data.age.max()"
      ],
      "execution_count": 16,
      "outputs": [
        {
          "output_type": "execute_result",
          "data": {
            "text/plain": [
              "90.0"
            ]
          },
          "metadata": {},
          "execution_count": 16
        }
      ]
    },
    {
      "cell_type": "code",
      "metadata": {
        "colab": {
          "base_uri": "https://localhost:8080/"
        },
        "id": "8CNgoKuLtjdm",
        "outputId": "b0fa3c40-fc1f-4d69-c111-98a65c802cdc"
      },
      "source": [
        "ckd_data.age.min()"
      ],
      "execution_count": 17,
      "outputs": [
        {
          "output_type": "execute_result",
          "data": {
            "text/plain": [
              "2.0"
            ]
          },
          "metadata": {},
          "execution_count": 17
        }
      ]
    },
    {
      "cell_type": "code",
      "metadata": {
        "colab": {
          "base_uri": "https://localhost:8080/"
        },
        "id": "cHOJZf6BuDL_",
        "outputId": "c32c02eb-3d3d-4f6f-ebed-956e83baf094"
      },
      "source": [
        "ckd_data.shape"
      ],
      "execution_count": 18,
      "outputs": [
        {
          "output_type": "execute_result",
          "data": {
            "text/plain": [
              "(400, 26)"
            ]
          },
          "metadata": {},
          "execution_count": 18
        }
      ]
    },
    {
      "cell_type": "code",
      "metadata": {
        "colab": {
          "base_uri": "https://localhost:8080/"
        },
        "id": "ASJpGQ9NuJuw",
        "outputId": "33af2f01-1fc2-4d37-eea2-c7b2c03a0d1f"
      },
      "source": [
        "ckd_data.notnull().sum()"
      ],
      "execution_count": 19,
      "outputs": [
        {
          "output_type": "execute_result",
          "data": {
            "text/plain": [
              "id                400\n",
              "age               391\n",
              "bp                388\n",
              "sg                353\n",
              "al                354\n",
              "su                351\n",
              "rbc               248\n",
              "pc                335\n",
              "pcc               396\n",
              "ba                396\n",
              "bgr               356\n",
              "bu                381\n",
              "sc                383\n",
              "sod               313\n",
              "pot               312\n",
              "hemo              348\n",
              "pcv               330\n",
              "wc                295\n",
              "rc                270\n",
              "htn               398\n",
              "dm                398\n",
              "cad               398\n",
              "appet             399\n",
              "pe                399\n",
              "ane               399\n",
              "classification    400\n",
              "dtype: int64"
            ]
          },
          "metadata": {},
          "execution_count": 19
        }
      ]
    },
    {
      "cell_type": "code",
      "metadata": {
        "colab": {
          "base_uri": "https://localhost:8080/",
          "height": 300
        },
        "id": "GR7zX4ngu33L",
        "outputId": "354e37ea-2e0b-46c9-8100-7bf2f278915a"
      },
      "source": [
        "ckd_data.describe()"
      ],
      "execution_count": 25,
      "outputs": [
        {
          "output_type": "execute_result",
          "data": {
            "text/html": [
              "<div>\n",
              "<style scoped>\n",
              "    .dataframe tbody tr th:only-of-type {\n",
              "        vertical-align: middle;\n",
              "    }\n",
              "\n",
              "    .dataframe tbody tr th {\n",
              "        vertical-align: top;\n",
              "    }\n",
              "\n",
              "    .dataframe thead th {\n",
              "        text-align: right;\n",
              "    }\n",
              "</style>\n",
              "<table border=\"1\" class=\"dataframe\">\n",
              "  <thead>\n",
              "    <tr style=\"text-align: right;\">\n",
              "      <th></th>\n",
              "      <th>id</th>\n",
              "      <th>age</th>\n",
              "      <th>bp</th>\n",
              "      <th>sg</th>\n",
              "      <th>al</th>\n",
              "      <th>su</th>\n",
              "      <th>bgr</th>\n",
              "      <th>bu</th>\n",
              "      <th>sc</th>\n",
              "      <th>sod</th>\n",
              "      <th>pot</th>\n",
              "      <th>hemo</th>\n",
              "    </tr>\n",
              "  </thead>\n",
              "  <tbody>\n",
              "    <tr>\n",
              "      <th>count</th>\n",
              "      <td>400.000000</td>\n",
              "      <td>391.000000</td>\n",
              "      <td>388.000000</td>\n",
              "      <td>353.000000</td>\n",
              "      <td>354.000000</td>\n",
              "      <td>351.000000</td>\n",
              "      <td>356.000000</td>\n",
              "      <td>381.000000</td>\n",
              "      <td>383.000000</td>\n",
              "      <td>313.000000</td>\n",
              "      <td>312.000000</td>\n",
              "      <td>348.000000</td>\n",
              "    </tr>\n",
              "    <tr>\n",
              "      <th>mean</th>\n",
              "      <td>199.500000</td>\n",
              "      <td>51.483376</td>\n",
              "      <td>76.469072</td>\n",
              "      <td>1.017408</td>\n",
              "      <td>1.016949</td>\n",
              "      <td>0.450142</td>\n",
              "      <td>148.036517</td>\n",
              "      <td>57.425722</td>\n",
              "      <td>3.072454</td>\n",
              "      <td>137.528754</td>\n",
              "      <td>4.627244</td>\n",
              "      <td>12.526437</td>\n",
              "    </tr>\n",
              "    <tr>\n",
              "      <th>std</th>\n",
              "      <td>115.614301</td>\n",
              "      <td>17.169714</td>\n",
              "      <td>13.683637</td>\n",
              "      <td>0.005717</td>\n",
              "      <td>1.352679</td>\n",
              "      <td>1.099191</td>\n",
              "      <td>79.281714</td>\n",
              "      <td>50.503006</td>\n",
              "      <td>5.741126</td>\n",
              "      <td>10.408752</td>\n",
              "      <td>3.193904</td>\n",
              "      <td>2.912587</td>\n",
              "    </tr>\n",
              "    <tr>\n",
              "      <th>min</th>\n",
              "      <td>0.000000</td>\n",
              "      <td>2.000000</td>\n",
              "      <td>50.000000</td>\n",
              "      <td>1.005000</td>\n",
              "      <td>0.000000</td>\n",
              "      <td>0.000000</td>\n",
              "      <td>22.000000</td>\n",
              "      <td>1.500000</td>\n",
              "      <td>0.400000</td>\n",
              "      <td>4.500000</td>\n",
              "      <td>2.500000</td>\n",
              "      <td>3.100000</td>\n",
              "    </tr>\n",
              "    <tr>\n",
              "      <th>25%</th>\n",
              "      <td>99.750000</td>\n",
              "      <td>42.000000</td>\n",
              "      <td>70.000000</td>\n",
              "      <td>1.010000</td>\n",
              "      <td>0.000000</td>\n",
              "      <td>0.000000</td>\n",
              "      <td>99.000000</td>\n",
              "      <td>27.000000</td>\n",
              "      <td>0.900000</td>\n",
              "      <td>135.000000</td>\n",
              "      <td>3.800000</td>\n",
              "      <td>10.300000</td>\n",
              "    </tr>\n",
              "    <tr>\n",
              "      <th>50%</th>\n",
              "      <td>199.500000</td>\n",
              "      <td>55.000000</td>\n",
              "      <td>80.000000</td>\n",
              "      <td>1.020000</td>\n",
              "      <td>0.000000</td>\n",
              "      <td>0.000000</td>\n",
              "      <td>121.000000</td>\n",
              "      <td>42.000000</td>\n",
              "      <td>1.300000</td>\n",
              "      <td>138.000000</td>\n",
              "      <td>4.400000</td>\n",
              "      <td>12.650000</td>\n",
              "    </tr>\n",
              "    <tr>\n",
              "      <th>75%</th>\n",
              "      <td>299.250000</td>\n",
              "      <td>64.500000</td>\n",
              "      <td>80.000000</td>\n",
              "      <td>1.020000</td>\n",
              "      <td>2.000000</td>\n",
              "      <td>0.000000</td>\n",
              "      <td>163.000000</td>\n",
              "      <td>66.000000</td>\n",
              "      <td>2.800000</td>\n",
              "      <td>142.000000</td>\n",
              "      <td>4.900000</td>\n",
              "      <td>15.000000</td>\n",
              "    </tr>\n",
              "    <tr>\n",
              "      <th>max</th>\n",
              "      <td>399.000000</td>\n",
              "      <td>90.000000</td>\n",
              "      <td>180.000000</td>\n",
              "      <td>1.025000</td>\n",
              "      <td>5.000000</td>\n",
              "      <td>5.000000</td>\n",
              "      <td>490.000000</td>\n",
              "      <td>391.000000</td>\n",
              "      <td>76.000000</td>\n",
              "      <td>163.000000</td>\n",
              "      <td>47.000000</td>\n",
              "      <td>17.800000</td>\n",
              "    </tr>\n",
              "  </tbody>\n",
              "</table>\n",
              "</div>"
            ],
            "text/plain": [
              "               id         age          bp  ...         sod         pot        hemo\n",
              "count  400.000000  391.000000  388.000000  ...  313.000000  312.000000  348.000000\n",
              "mean   199.500000   51.483376   76.469072  ...  137.528754    4.627244   12.526437\n",
              "std    115.614301   17.169714   13.683637  ...   10.408752    3.193904    2.912587\n",
              "min      0.000000    2.000000   50.000000  ...    4.500000    2.500000    3.100000\n",
              "25%     99.750000   42.000000   70.000000  ...  135.000000    3.800000   10.300000\n",
              "50%    199.500000   55.000000   80.000000  ...  138.000000    4.400000   12.650000\n",
              "75%    299.250000   64.500000   80.000000  ...  142.000000    4.900000   15.000000\n",
              "max    399.000000   90.000000  180.000000  ...  163.000000   47.000000   17.800000\n",
              "\n",
              "[8 rows x 12 columns]"
            ]
          },
          "metadata": {},
          "execution_count": 25
        }
      ]
    },
    {
      "cell_type": "code",
      "metadata": {
        "colab": {
          "base_uri": "https://localhost:8080/"
        },
        "id": "zqa_MCFRv50T",
        "outputId": "ed881c75-ac67-4ab9-9924-da947a5e3355"
      },
      "source": [
        "ckd_data.dtypes"
      ],
      "execution_count": 26,
      "outputs": [
        {
          "output_type": "execute_result",
          "data": {
            "text/plain": [
              "id                  int64\n",
              "age               float64\n",
              "bp                float64\n",
              "sg                float64\n",
              "al                float64\n",
              "su                float64\n",
              "rbc                object\n",
              "pc                 object\n",
              "pcc                object\n",
              "ba                 object\n",
              "bgr               float64\n",
              "bu                float64\n",
              "sc                float64\n",
              "sod               float64\n",
              "pot               float64\n",
              "hemo              float64\n",
              "pcv                object\n",
              "wc                 object\n",
              "rc                 object\n",
              "htn                object\n",
              "dm                 object\n",
              "cad                object\n",
              "appet              object\n",
              "pe                 object\n",
              "ane                object\n",
              "classification     object\n",
              "dtype: object"
            ]
          },
          "metadata": {},
          "execution_count": 26
        }
      ]
    },
    {
      "cell_type": "code",
      "metadata": {
        "colab": {
          "base_uri": "https://localhost:8080/"
        },
        "id": "D0Ljne5Ju34h",
        "outputId": "088e2495-0f95-4ed2-f89b-f9741614b6bc"
      },
      "source": [
        "#Finding the mean of the column having NaN\n",
        "median_value=ckd_data['bp'].median()\n",
        "median_value\n",
        "  \n",
        "# # Replace NaNs in column S2 with the\n",
        "# # mean of values in the same column\n",
        "# gfg['G2'].fillna(value=mean_value, inplace=True)\n",
        "# print('Updated Dataframe:')\n",
        "# # print(gfg)"
      ],
      "execution_count": 27,
      "outputs": [
        {
          "output_type": "execute_result",
          "data": {
            "text/plain": [
              "80.0"
            ]
          },
          "metadata": {},
          "execution_count": 27
        }
      ]
    },
    {
      "cell_type": "code",
      "metadata": {
        "colab": {
          "base_uri": "https://localhost:8080/",
          "height": 300
        },
        "id": "1wYf3joyvTiy",
        "outputId": "9c64aa7e-9712-4f19-adbe-1cbe8af5edf4"
      },
      "source": [
        "\n",
        "ckd_data['bp'].fillna(value=median_value, inplace=True)\n",
        "ckd_data.describe()"
      ],
      "execution_count": 28,
      "outputs": [
        {
          "output_type": "execute_result",
          "data": {
            "text/html": [
              "<div>\n",
              "<style scoped>\n",
              "    .dataframe tbody tr th:only-of-type {\n",
              "        vertical-align: middle;\n",
              "    }\n",
              "\n",
              "    .dataframe tbody tr th {\n",
              "        vertical-align: top;\n",
              "    }\n",
              "\n",
              "    .dataframe thead th {\n",
              "        text-align: right;\n",
              "    }\n",
              "</style>\n",
              "<table border=\"1\" class=\"dataframe\">\n",
              "  <thead>\n",
              "    <tr style=\"text-align: right;\">\n",
              "      <th></th>\n",
              "      <th>id</th>\n",
              "      <th>age</th>\n",
              "      <th>bp</th>\n",
              "      <th>sg</th>\n",
              "      <th>al</th>\n",
              "      <th>su</th>\n",
              "      <th>bgr</th>\n",
              "      <th>bu</th>\n",
              "      <th>sc</th>\n",
              "      <th>sod</th>\n",
              "      <th>pot</th>\n",
              "      <th>hemo</th>\n",
              "    </tr>\n",
              "  </thead>\n",
              "  <tbody>\n",
              "    <tr>\n",
              "      <th>count</th>\n",
              "      <td>400.000000</td>\n",
              "      <td>391.000000</td>\n",
              "      <td>400.000000</td>\n",
              "      <td>353.000000</td>\n",
              "      <td>354.000000</td>\n",
              "      <td>351.000000</td>\n",
              "      <td>356.000000</td>\n",
              "      <td>381.000000</td>\n",
              "      <td>383.000000</td>\n",
              "      <td>313.000000</td>\n",
              "      <td>312.000000</td>\n",
              "      <td>348.000000</td>\n",
              "    </tr>\n",
              "    <tr>\n",
              "      <th>mean</th>\n",
              "      <td>199.500000</td>\n",
              "      <td>51.483376</td>\n",
              "      <td>76.575000</td>\n",
              "      <td>1.017408</td>\n",
              "      <td>1.016949</td>\n",
              "      <td>0.450142</td>\n",
              "      <td>148.036517</td>\n",
              "      <td>57.425722</td>\n",
              "      <td>3.072454</td>\n",
              "      <td>137.528754</td>\n",
              "      <td>4.627244</td>\n",
              "      <td>12.526437</td>\n",
              "    </tr>\n",
              "    <tr>\n",
              "      <th>std</th>\n",
              "      <td>115.614301</td>\n",
              "      <td>17.169714</td>\n",
              "      <td>13.489785</td>\n",
              "      <td>0.005717</td>\n",
              "      <td>1.352679</td>\n",
              "      <td>1.099191</td>\n",
              "      <td>79.281714</td>\n",
              "      <td>50.503006</td>\n",
              "      <td>5.741126</td>\n",
              "      <td>10.408752</td>\n",
              "      <td>3.193904</td>\n",
              "      <td>2.912587</td>\n",
              "    </tr>\n",
              "    <tr>\n",
              "      <th>min</th>\n",
              "      <td>0.000000</td>\n",
              "      <td>2.000000</td>\n",
              "      <td>50.000000</td>\n",
              "      <td>1.005000</td>\n",
              "      <td>0.000000</td>\n",
              "      <td>0.000000</td>\n",
              "      <td>22.000000</td>\n",
              "      <td>1.500000</td>\n",
              "      <td>0.400000</td>\n",
              "      <td>4.500000</td>\n",
              "      <td>2.500000</td>\n",
              "      <td>3.100000</td>\n",
              "    </tr>\n",
              "    <tr>\n",
              "      <th>25%</th>\n",
              "      <td>99.750000</td>\n",
              "      <td>42.000000</td>\n",
              "      <td>70.000000</td>\n",
              "      <td>1.010000</td>\n",
              "      <td>0.000000</td>\n",
              "      <td>0.000000</td>\n",
              "      <td>99.000000</td>\n",
              "      <td>27.000000</td>\n",
              "      <td>0.900000</td>\n",
              "      <td>135.000000</td>\n",
              "      <td>3.800000</td>\n",
              "      <td>10.300000</td>\n",
              "    </tr>\n",
              "    <tr>\n",
              "      <th>50%</th>\n",
              "      <td>199.500000</td>\n",
              "      <td>55.000000</td>\n",
              "      <td>80.000000</td>\n",
              "      <td>1.020000</td>\n",
              "      <td>0.000000</td>\n",
              "      <td>0.000000</td>\n",
              "      <td>121.000000</td>\n",
              "      <td>42.000000</td>\n",
              "      <td>1.300000</td>\n",
              "      <td>138.000000</td>\n",
              "      <td>4.400000</td>\n",
              "      <td>12.650000</td>\n",
              "    </tr>\n",
              "    <tr>\n",
              "      <th>75%</th>\n",
              "      <td>299.250000</td>\n",
              "      <td>64.500000</td>\n",
              "      <td>80.000000</td>\n",
              "      <td>1.020000</td>\n",
              "      <td>2.000000</td>\n",
              "      <td>0.000000</td>\n",
              "      <td>163.000000</td>\n",
              "      <td>66.000000</td>\n",
              "      <td>2.800000</td>\n",
              "      <td>142.000000</td>\n",
              "      <td>4.900000</td>\n",
              "      <td>15.000000</td>\n",
              "    </tr>\n",
              "    <tr>\n",
              "      <th>max</th>\n",
              "      <td>399.000000</td>\n",
              "      <td>90.000000</td>\n",
              "      <td>180.000000</td>\n",
              "      <td>1.025000</td>\n",
              "      <td>5.000000</td>\n",
              "      <td>5.000000</td>\n",
              "      <td>490.000000</td>\n",
              "      <td>391.000000</td>\n",
              "      <td>76.000000</td>\n",
              "      <td>163.000000</td>\n",
              "      <td>47.000000</td>\n",
              "      <td>17.800000</td>\n",
              "    </tr>\n",
              "  </tbody>\n",
              "</table>\n",
              "</div>"
            ],
            "text/plain": [
              "               id         age          bp  ...         sod         pot        hemo\n",
              "count  400.000000  391.000000  400.000000  ...  313.000000  312.000000  348.000000\n",
              "mean   199.500000   51.483376   76.575000  ...  137.528754    4.627244   12.526437\n",
              "std    115.614301   17.169714   13.489785  ...   10.408752    3.193904    2.912587\n",
              "min      0.000000    2.000000   50.000000  ...    4.500000    2.500000    3.100000\n",
              "25%     99.750000   42.000000   70.000000  ...  135.000000    3.800000   10.300000\n",
              "50%    199.500000   55.000000   80.000000  ...  138.000000    4.400000   12.650000\n",
              "75%    299.250000   64.500000   80.000000  ...  142.000000    4.900000   15.000000\n",
              "max    399.000000   90.000000  180.000000  ...  163.000000   47.000000   17.800000\n",
              "\n",
              "[8 rows x 12 columns]"
            ]
          },
          "metadata": {},
          "execution_count": 28
        }
      ]
    },
    {
      "cell_type": "code",
      "metadata": {
        "colab": {
          "base_uri": "https://localhost:8080/"
        },
        "id": "AnjNfi8UvjjS",
        "outputId": "c957a575-7f07-4551-f6c1-88f5777e9cd4"
      },
      "source": [
        "ckd_data.dtypes"
      ],
      "execution_count": 30,
      "outputs": [
        {
          "output_type": "execute_result",
          "data": {
            "text/plain": [
              "id                  int64\n",
              "age               float64\n",
              "bp                float64\n",
              "sg                float64\n",
              "al                float64\n",
              "su                float64\n",
              "rbc                object\n",
              "pc                 object\n",
              "pcc                object\n",
              "ba                 object\n",
              "bgr               float64\n",
              "bu                float64\n",
              "sc                float64\n",
              "sod               float64\n",
              "pot               float64\n",
              "hemo              float64\n",
              "pcv                object\n",
              "wc                 object\n",
              "rc                 object\n",
              "htn                object\n",
              "dm                 object\n",
              "cad                object\n",
              "appet              object\n",
              "pe                 object\n",
              "ane                object\n",
              "classification     object\n",
              "dtype: object"
            ]
          },
          "metadata": {},
          "execution_count": 30
        }
      ]
    },
    {
      "cell_type": "code",
      "metadata": {
        "colab": {
          "base_uri": "https://localhost:8080/"
        },
        "id": "HfDhIK_ywNuJ",
        "outputId": "fb74aa28-27be-4cfc-9df1-4ba0da28665b"
      },
      "source": [
        "ckd_data.notnull().sum()"
      ],
      "execution_count": 31,
      "outputs": [
        {
          "output_type": "execute_result",
          "data": {
            "text/plain": [
              "id                400\n",
              "age               391\n",
              "bp                400\n",
              "sg                353\n",
              "al                354\n",
              "su                351\n",
              "rbc               248\n",
              "pc                335\n",
              "pcc               396\n",
              "ba                396\n",
              "bgr               356\n",
              "bu                381\n",
              "sc                383\n",
              "sod               313\n",
              "pot               312\n",
              "hemo              348\n",
              "pcv               330\n",
              "wc                295\n",
              "rc                270\n",
              "htn               398\n",
              "dm                398\n",
              "cad               398\n",
              "appet             399\n",
              "pe                399\n",
              "ane               399\n",
              "classification    400\n",
              "dtype: int64"
            ]
          },
          "metadata": {},
          "execution_count": 31
        }
      ]
    },
    {
      "cell_type": "code",
      "metadata": {
        "id": "XWi9faHDwwLA"
      },
      "source": [
        ""
      ],
      "execution_count": null,
      "outputs": []
    }
  ]
}