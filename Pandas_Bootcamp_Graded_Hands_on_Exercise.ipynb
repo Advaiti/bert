{
  "nbformat": 4,
  "nbformat_minor": 0,
  "metadata": {
    "colab": {
      "name": "Pandas Bootcamp Graded Hands-on Exercise.ipynb",
      "provenance": [],
      "include_colab_link": true
    },
    "kernelspec": {
      "name": "python3",
      "display_name": "Python 3"
    },
    "language_info": {
      "name": "python"
    }
  },
  "cells": [
    {
      "cell_type": "markdown",
      "metadata": {
        "id": "view-in-github",
        "colab_type": "text"
      },
      "source": [
        "<a href=\"https://colab.research.google.com/github/Advaiti/bert/blob/master/Pandas_Bootcamp_Graded_Hands_on_Exercise.ipynb\" target=\"_parent\"><img src=\"https://colab.research.google.com/assets/colab-badge.svg\" alt=\"Open In Colab\"/></a>"
      ]
    },
    {
      "cell_type": "markdown",
      "metadata": {
        "id": "Gvll069tUh4v"
      },
      "source": [
        "##Overview\n",
        "\n",
        "Dear Learner, \n",
        "\n",
        "Congratulations, you have studied Pandas all the way through the end of this bootcamp!!! This is the final graded hands-on exercise where you will be accomplishing the below mentioned task.\n",
        "\n",
        "For the tasks, we'll be using the COVID-19 Data Repository by the Center for Systems Science and Engineering (CSSE) at Johns Hopkins University. You can find the orginal dataset here: https://github.com/CSSEGISandData/COVID-19\n",
        "\n",
        "\n",
        "**Dataset Link**: https://raw.githubusercontent.com/dphi-official/Datasets/master/covid_19_data.csv\n",
        "\n",
        "**Resources**: You may consider referring to this resource while solving this project: https://www.learndatasci.com/tutorials/python-pandas-tutorial-complete-introduction-for-beginners/\n",
        "\n"
      ]
    },
    {
      "cell_type": "markdown",
      "metadata": {
        "id": "dvPOOlTFeejl"
      },
      "source": [
        "**Information about the dataset:**\n",
        "\n",
        "There are 8 features:\n",
        "\n",
        "* SNo: Serial number\n",
        "* ObservationDate: Date of observation of the cases (format: MM/DD/YYYY)\n",
        "* Province/State: Province or State of the country where cases were observed\n",
        "* Country/Region: Country where cases were observed\n",
        "* Last Update: Time in UTC at which the row is updated for the given province or country. (It is not in a standard format)\n",
        "* Confirmed: Cumulative number of confirmed cases till the date\n",
        "* Deaths: Cumulative number of deaths till the date\n",
        "* Recovered: Cumulative number of recovered cases till date"
      ]
    },
    {
      "cell_type": "markdown",
      "metadata": {
        "id": "A_JNx02DemVy"
      },
      "source": [
        "**Instruction for the learner:** \n",
        "* Recommended to revise 'groupby()' method of pandas\n",
        "* Recommended to understand the word **'Cummulative'** properly for three features - 'Confirmed', 'Recovered' and 'Deaths'.\n",
        "* Please note that the dtype of datetime columns are of object, convert them to datetime as shown below:"
      ]
    },
    {
      "cell_type": "markdown",
      "metadata": {
        "id": "GejbyYGQUrpN"
      },
      "source": [
        "###**Task 1**\n",
        "\n",
        "* Read the dataset and name is as `df`\n",
        "* Print first 10 observations of the dataset\n",
        "* Check for the data types of the all the variables in the dataset\n",
        "* Convert columns ['ObservationDate'] and ['Last Update'] to from object to datatime data type.\n"
      ]
    },
    {
      "cell_type": "code",
      "metadata": {
        "id": "Z5hdBdj_8i7A"
      },
      "source": [
        "import pandas as pd"
      ],
      "execution_count": 2,
      "outputs": []
    },
    {
      "cell_type": "code",
      "metadata": {
        "id": "WiAj9dhD8YoO"
      },
      "source": [
        "df = pd.read_csv(\"https://raw.githubusercontent.com/dphi-official/Datasets/master/covid_19_data.csv\")"
      ],
      "execution_count": 5,
      "outputs": []
    },
    {
      "cell_type": "code",
      "metadata": {
        "colab": {
          "base_uri": "https://localhost:8080/",
          "height": 363
        },
        "id": "Mhiadtz-8vnI",
        "outputId": "3985c2af-d8ff-4053-c1ab-dae119dd887e"
      },
      "source": [
        "df.head(10)"
      ],
      "execution_count": 6,
      "outputs": [
        {
          "output_type": "execute_result",
          "data": {
            "text/html": [
              "<div>\n",
              "<style scoped>\n",
              "    .dataframe tbody tr th:only-of-type {\n",
              "        vertical-align: middle;\n",
              "    }\n",
              "\n",
              "    .dataframe tbody tr th {\n",
              "        vertical-align: top;\n",
              "    }\n",
              "\n",
              "    .dataframe thead th {\n",
              "        text-align: right;\n",
              "    }\n",
              "</style>\n",
              "<table border=\"1\" class=\"dataframe\">\n",
              "  <thead>\n",
              "    <tr style=\"text-align: right;\">\n",
              "      <th></th>\n",
              "      <th>SNo</th>\n",
              "      <th>ObservationDate</th>\n",
              "      <th>Province/State</th>\n",
              "      <th>Country/Region</th>\n",
              "      <th>Last Update</th>\n",
              "      <th>Confirmed</th>\n",
              "      <th>Deaths</th>\n",
              "      <th>Recovered</th>\n",
              "    </tr>\n",
              "  </thead>\n",
              "  <tbody>\n",
              "    <tr>\n",
              "      <th>0</th>\n",
              "      <td>1</td>\n",
              "      <td>01/22/2020</td>\n",
              "      <td>Anhui</td>\n",
              "      <td>Mainland China</td>\n",
              "      <td>1/22/2020 17:00</td>\n",
              "      <td>1.0</td>\n",
              "      <td>0.0</td>\n",
              "      <td>0.0</td>\n",
              "    </tr>\n",
              "    <tr>\n",
              "      <th>1</th>\n",
              "      <td>2</td>\n",
              "      <td>01/22/2020</td>\n",
              "      <td>Beijing</td>\n",
              "      <td>Mainland China</td>\n",
              "      <td>1/22/2020 17:00</td>\n",
              "      <td>14.0</td>\n",
              "      <td>0.0</td>\n",
              "      <td>0.0</td>\n",
              "    </tr>\n",
              "    <tr>\n",
              "      <th>2</th>\n",
              "      <td>3</td>\n",
              "      <td>01/22/2020</td>\n",
              "      <td>Chongqing</td>\n",
              "      <td>Mainland China</td>\n",
              "      <td>1/22/2020 17:00</td>\n",
              "      <td>6.0</td>\n",
              "      <td>0.0</td>\n",
              "      <td>0.0</td>\n",
              "    </tr>\n",
              "    <tr>\n",
              "      <th>3</th>\n",
              "      <td>4</td>\n",
              "      <td>01/22/2020</td>\n",
              "      <td>Fujian</td>\n",
              "      <td>Mainland China</td>\n",
              "      <td>1/22/2020 17:00</td>\n",
              "      <td>1.0</td>\n",
              "      <td>0.0</td>\n",
              "      <td>0.0</td>\n",
              "    </tr>\n",
              "    <tr>\n",
              "      <th>4</th>\n",
              "      <td>5</td>\n",
              "      <td>01/22/2020</td>\n",
              "      <td>Gansu</td>\n",
              "      <td>Mainland China</td>\n",
              "      <td>1/22/2020 17:00</td>\n",
              "      <td>0.0</td>\n",
              "      <td>0.0</td>\n",
              "      <td>0.0</td>\n",
              "    </tr>\n",
              "    <tr>\n",
              "      <th>5</th>\n",
              "      <td>6</td>\n",
              "      <td>01/22/2020</td>\n",
              "      <td>Guangdong</td>\n",
              "      <td>Mainland China</td>\n",
              "      <td>1/22/2020 17:00</td>\n",
              "      <td>26.0</td>\n",
              "      <td>0.0</td>\n",
              "      <td>0.0</td>\n",
              "    </tr>\n",
              "    <tr>\n",
              "      <th>6</th>\n",
              "      <td>7</td>\n",
              "      <td>01/22/2020</td>\n",
              "      <td>Guangxi</td>\n",
              "      <td>Mainland China</td>\n",
              "      <td>1/22/2020 17:00</td>\n",
              "      <td>2.0</td>\n",
              "      <td>0.0</td>\n",
              "      <td>0.0</td>\n",
              "    </tr>\n",
              "    <tr>\n",
              "      <th>7</th>\n",
              "      <td>8</td>\n",
              "      <td>01/22/2020</td>\n",
              "      <td>Guizhou</td>\n",
              "      <td>Mainland China</td>\n",
              "      <td>1/22/2020 17:00</td>\n",
              "      <td>1.0</td>\n",
              "      <td>0.0</td>\n",
              "      <td>0.0</td>\n",
              "    </tr>\n",
              "    <tr>\n",
              "      <th>8</th>\n",
              "      <td>9</td>\n",
              "      <td>01/22/2020</td>\n",
              "      <td>Hainan</td>\n",
              "      <td>Mainland China</td>\n",
              "      <td>1/22/2020 17:00</td>\n",
              "      <td>4.0</td>\n",
              "      <td>0.0</td>\n",
              "      <td>0.0</td>\n",
              "    </tr>\n",
              "    <tr>\n",
              "      <th>9</th>\n",
              "      <td>10</td>\n",
              "      <td>01/22/2020</td>\n",
              "      <td>Hebei</td>\n",
              "      <td>Mainland China</td>\n",
              "      <td>1/22/2020 17:00</td>\n",
              "      <td>1.0</td>\n",
              "      <td>0.0</td>\n",
              "      <td>0.0</td>\n",
              "    </tr>\n",
              "  </tbody>\n",
              "</table>\n",
              "</div>"
            ],
            "text/plain": [
              "   SNo ObservationDate Province/State  ... Confirmed Deaths  Recovered\n",
              "0    1      01/22/2020          Anhui  ...       1.0    0.0        0.0\n",
              "1    2      01/22/2020        Beijing  ...      14.0    0.0        0.0\n",
              "2    3      01/22/2020      Chongqing  ...       6.0    0.0        0.0\n",
              "3    4      01/22/2020         Fujian  ...       1.0    0.0        0.0\n",
              "4    5      01/22/2020          Gansu  ...       0.0    0.0        0.0\n",
              "5    6      01/22/2020      Guangdong  ...      26.0    0.0        0.0\n",
              "6    7      01/22/2020        Guangxi  ...       2.0    0.0        0.0\n",
              "7    8      01/22/2020        Guizhou  ...       1.0    0.0        0.0\n",
              "8    9      01/22/2020         Hainan  ...       4.0    0.0        0.0\n",
              "9   10      01/22/2020          Hebei  ...       1.0    0.0        0.0\n",
              "\n",
              "[10 rows x 8 columns]"
            ]
          },
          "metadata": {},
          "execution_count": 6
        }
      ]
    },
    {
      "cell_type": "code",
      "metadata": {
        "colab": {
          "base_uri": "https://localhost:8080/"
        },
        "id": "fMUSxaLx80Ip",
        "outputId": "08805c76-0df6-431b-ec00-db89c947a5ee"
      },
      "source": [
        "df.dtypes"
      ],
      "execution_count": 7,
      "outputs": [
        {
          "output_type": "execute_result",
          "data": {
            "text/plain": [
              "SNo                  int64\n",
              "ObservationDate     object\n",
              "Province/State      object\n",
              "Country/Region      object\n",
              "Last Update         object\n",
              "Confirmed          float64\n",
              "Deaths             float64\n",
              "Recovered          float64\n",
              "dtype: object"
            ]
          },
          "metadata": {},
          "execution_count": 7
        }
      ]
    },
    {
      "cell_type": "code",
      "metadata": {
        "id": "DRk6Py-2_ezu"
      },
      "source": [
        "df['ObservationDate']= pd.to_datetime(df['ObservationDate'])"
      ],
      "execution_count": 8,
      "outputs": []
    },
    {
      "cell_type": "code",
      "metadata": {
        "id": "GV9SeEYIAVXL"
      },
      "source": [
        "df['Last Update']= pd.to_datetime(df['Last Update'])"
      ],
      "execution_count": 10,
      "outputs": []
    },
    {
      "cell_type": "code",
      "metadata": {
        "colab": {
          "base_uri": "https://localhost:8080/"
        },
        "id": "Df9sHMc1ARo1",
        "outputId": "36b0d6d2-5f5f-407c-8dd6-51373d9ee7ee"
      },
      "source": [
        "df.dtypes"
      ],
      "execution_count": 11,
      "outputs": [
        {
          "output_type": "execute_result",
          "data": {
            "text/plain": [
              "SNo                         int64\n",
              "ObservationDate    datetime64[ns]\n",
              "Province/State             object\n",
              "Country/Region             object\n",
              "Last Update        datetime64[ns]\n",
              "Confirmed                 float64\n",
              "Deaths                    float64\n",
              "Recovered                 float64\n",
              "dtype: object"
            ]
          },
          "metadata": {},
          "execution_count": 11
        }
      ]
    },
    {
      "cell_type": "code",
      "metadata": {
        "colab": {
          "base_uri": "https://localhost:8080/"
        },
        "id": "1Q0kLJ3vEK3T",
        "outputId": "c2c5b477-98cb-45bd-9c67-8ac6077f338f"
      },
      "source": [
        "df.shape"
      ],
      "execution_count": 29,
      "outputs": [
        {
          "output_type": "execute_result",
          "data": {
            "text/plain": [
              "(40805, 8)"
            ]
          },
          "metadata": {},
          "execution_count": 29
        }
      ]
    },
    {
      "cell_type": "code",
      "metadata": {
        "colab": {
          "base_uri": "https://localhost:8080/",
          "height": 423
        },
        "id": "dX8ZUbbkBYP8",
        "outputId": "67178ddc-f77a-42a9-94be-338d88e0b055"
      },
      "source": [
        "df"
      ],
      "execution_count": 13,
      "outputs": [
        {
          "output_type": "execute_result",
          "data": {
            "text/html": [
              "<div>\n",
              "<style scoped>\n",
              "    .dataframe tbody tr th:only-of-type {\n",
              "        vertical-align: middle;\n",
              "    }\n",
              "\n",
              "    .dataframe tbody tr th {\n",
              "        vertical-align: top;\n",
              "    }\n",
              "\n",
              "    .dataframe thead th {\n",
              "        text-align: right;\n",
              "    }\n",
              "</style>\n",
              "<table border=\"1\" class=\"dataframe\">\n",
              "  <thead>\n",
              "    <tr style=\"text-align: right;\">\n",
              "      <th></th>\n",
              "      <th>SNo</th>\n",
              "      <th>ObservationDate</th>\n",
              "      <th>Province/State</th>\n",
              "      <th>Country/Region</th>\n",
              "      <th>Last Update</th>\n",
              "      <th>Confirmed</th>\n",
              "      <th>Deaths</th>\n",
              "      <th>Recovered</th>\n",
              "    </tr>\n",
              "  </thead>\n",
              "  <tbody>\n",
              "    <tr>\n",
              "      <th>0</th>\n",
              "      <td>1</td>\n",
              "      <td>2020-01-22</td>\n",
              "      <td>Anhui</td>\n",
              "      <td>Mainland China</td>\n",
              "      <td>2020-01-22 17:00:00</td>\n",
              "      <td>1.0</td>\n",
              "      <td>0.0</td>\n",
              "      <td>0.0</td>\n",
              "    </tr>\n",
              "    <tr>\n",
              "      <th>1</th>\n",
              "      <td>2</td>\n",
              "      <td>2020-01-22</td>\n",
              "      <td>Beijing</td>\n",
              "      <td>Mainland China</td>\n",
              "      <td>2020-01-22 17:00:00</td>\n",
              "      <td>14.0</td>\n",
              "      <td>0.0</td>\n",
              "      <td>0.0</td>\n",
              "    </tr>\n",
              "    <tr>\n",
              "      <th>2</th>\n",
              "      <td>3</td>\n",
              "      <td>2020-01-22</td>\n",
              "      <td>Chongqing</td>\n",
              "      <td>Mainland China</td>\n",
              "      <td>2020-01-22 17:00:00</td>\n",
              "      <td>6.0</td>\n",
              "      <td>0.0</td>\n",
              "      <td>0.0</td>\n",
              "    </tr>\n",
              "    <tr>\n",
              "      <th>3</th>\n",
              "      <td>4</td>\n",
              "      <td>2020-01-22</td>\n",
              "      <td>Fujian</td>\n",
              "      <td>Mainland China</td>\n",
              "      <td>2020-01-22 17:00:00</td>\n",
              "      <td>1.0</td>\n",
              "      <td>0.0</td>\n",
              "      <td>0.0</td>\n",
              "    </tr>\n",
              "    <tr>\n",
              "      <th>4</th>\n",
              "      <td>5</td>\n",
              "      <td>2020-01-22</td>\n",
              "      <td>Gansu</td>\n",
              "      <td>Mainland China</td>\n",
              "      <td>2020-01-22 17:00:00</td>\n",
              "      <td>0.0</td>\n",
              "      <td>0.0</td>\n",
              "      <td>0.0</td>\n",
              "    </tr>\n",
              "    <tr>\n",
              "      <th>...</th>\n",
              "      <td>...</td>\n",
              "      <td>...</td>\n",
              "      <td>...</td>\n",
              "      <td>...</td>\n",
              "      <td>...</td>\n",
              "      <td>...</td>\n",
              "      <td>...</td>\n",
              "      <td>...</td>\n",
              "    </tr>\n",
              "    <tr>\n",
              "      <th>40800</th>\n",
              "      <td>40801</td>\n",
              "      <td>2020-06-12</td>\n",
              "      <td>Zacatecas</td>\n",
              "      <td>Mexico</td>\n",
              "      <td>2020-06-13 03:33:14</td>\n",
              "      <td>501.0</td>\n",
              "      <td>55.0</td>\n",
              "      <td>279.0</td>\n",
              "    </tr>\n",
              "    <tr>\n",
              "      <th>40801</th>\n",
              "      <td>40802</td>\n",
              "      <td>2020-06-12</td>\n",
              "      <td>Zakarpattia Oblast</td>\n",
              "      <td>Ukraine</td>\n",
              "      <td>2020-06-13 03:33:14</td>\n",
              "      <td>1506.0</td>\n",
              "      <td>38.0</td>\n",
              "      <td>675.0</td>\n",
              "    </tr>\n",
              "    <tr>\n",
              "      <th>40802</th>\n",
              "      <td>40803</td>\n",
              "      <td>2020-06-12</td>\n",
              "      <td>Zaporizhia Oblast</td>\n",
              "      <td>Ukraine</td>\n",
              "      <td>2020-06-13 03:33:14</td>\n",
              "      <td>515.0</td>\n",
              "      <td>15.0</td>\n",
              "      <td>322.0</td>\n",
              "    </tr>\n",
              "    <tr>\n",
              "      <th>40803</th>\n",
              "      <td>40804</td>\n",
              "      <td>2020-06-12</td>\n",
              "      <td>Zhejiang</td>\n",
              "      <td>Mainland China</td>\n",
              "      <td>2020-06-13 03:33:14</td>\n",
              "      <td>1268.0</td>\n",
              "      <td>1.0</td>\n",
              "      <td>1267.0</td>\n",
              "    </tr>\n",
              "    <tr>\n",
              "      <th>40804</th>\n",
              "      <td>40805</td>\n",
              "      <td>2020-06-12</td>\n",
              "      <td>Zhytomyr Oblast</td>\n",
              "      <td>Ukraine</td>\n",
              "      <td>2020-06-13 03:33:14</td>\n",
              "      <td>1013.0</td>\n",
              "      <td>17.0</td>\n",
              "      <td>527.0</td>\n",
              "    </tr>\n",
              "  </tbody>\n",
              "</table>\n",
              "<p>40805 rows × 8 columns</p>\n",
              "</div>"
            ],
            "text/plain": [
              "         SNo ObservationDate      Province/State  ... Confirmed Deaths  Recovered\n",
              "0          1      2020-01-22               Anhui  ...       1.0    0.0        0.0\n",
              "1          2      2020-01-22             Beijing  ...      14.0    0.0        0.0\n",
              "2          3      2020-01-22           Chongqing  ...       6.0    0.0        0.0\n",
              "3          4      2020-01-22              Fujian  ...       1.0    0.0        0.0\n",
              "4          5      2020-01-22               Gansu  ...       0.0    0.0        0.0\n",
              "...      ...             ...                 ...  ...       ...    ...        ...\n",
              "40800  40801      2020-06-12           Zacatecas  ...     501.0   55.0      279.0\n",
              "40801  40802      2020-06-12  Zakarpattia Oblast  ...    1506.0   38.0      675.0\n",
              "40802  40803      2020-06-12   Zaporizhia Oblast  ...     515.0   15.0      322.0\n",
              "40803  40804      2020-06-12            Zhejiang  ...    1268.0    1.0     1267.0\n",
              "40804  40805      2020-06-12     Zhytomyr Oblast  ...    1013.0   17.0      527.0\n",
              "\n",
              "[40805 rows x 8 columns]"
            ]
          },
          "metadata": {},
          "execution_count": 13
        }
      ]
    },
    {
      "cell_type": "markdown",
      "metadata": {
        "id": "9JfuOyUAWA6e"
      },
      "source": [
        "### **Task 2**\n",
        "* Create a subset of the data `df`, only taking observations which was **last updated** on **2020-06-13 03:33:14** and name this dataframe as **updated_data**. \n",
        "* Print the total no. of observations and unique country records in **updated_data**\n"
      ]
    },
    {
      "cell_type": "code",
      "metadata": {
        "id": "9wIoC1Ti8XWJ"
      },
      "source": [
        "updated_data = df.loc[df['Last Update']==\"2020-06-13 03:33:14\"]"
      ],
      "execution_count": 27,
      "outputs": []
    },
    {
      "cell_type": "code",
      "metadata": {
        "colab": {
          "base_uri": "https://localhost:8080/",
          "height": 423
        },
        "id": "RpcM3vmPBRO-",
        "outputId": "d86b840d-23f7-4e1f-900d-48477dbdbe1c"
      },
      "source": [
        "updated_data"
      ],
      "execution_count": 28,
      "outputs": [
        {
          "output_type": "execute_result",
          "data": {
            "text/html": [
              "<div>\n",
              "<style scoped>\n",
              "    .dataframe tbody tr th:only-of-type {\n",
              "        vertical-align: middle;\n",
              "    }\n",
              "\n",
              "    .dataframe tbody tr th {\n",
              "        vertical-align: top;\n",
              "    }\n",
              "\n",
              "    .dataframe thead th {\n",
              "        text-align: right;\n",
              "    }\n",
              "</style>\n",
              "<table border=\"1\" class=\"dataframe\">\n",
              "  <thead>\n",
              "    <tr style=\"text-align: right;\">\n",
              "      <th></th>\n",
              "      <th>SNo</th>\n",
              "      <th>ObservationDate</th>\n",
              "      <th>Province/State</th>\n",
              "      <th>Country/Region</th>\n",
              "      <th>Last Update</th>\n",
              "      <th>Confirmed</th>\n",
              "      <th>Deaths</th>\n",
              "      <th>Recovered</th>\n",
              "    </tr>\n",
              "  </thead>\n",
              "  <tbody>\n",
              "    <tr>\n",
              "      <th>40076</th>\n",
              "      <td>40077</td>\n",
              "      <td>2020-06-12</td>\n",
              "      <td>NaN</td>\n",
              "      <td>Afghanistan</td>\n",
              "      <td>2020-06-13 03:33:14</td>\n",
              "      <td>23546.0</td>\n",
              "      <td>446.0</td>\n",
              "      <td>3928.0</td>\n",
              "    </tr>\n",
              "    <tr>\n",
              "      <th>40077</th>\n",
              "      <td>40078</td>\n",
              "      <td>2020-06-12</td>\n",
              "      <td>NaN</td>\n",
              "      <td>Albania</td>\n",
              "      <td>2020-06-13 03:33:14</td>\n",
              "      <td>1416.0</td>\n",
              "      <td>36.0</td>\n",
              "      <td>1034.0</td>\n",
              "    </tr>\n",
              "    <tr>\n",
              "      <th>40078</th>\n",
              "      <td>40079</td>\n",
              "      <td>2020-06-12</td>\n",
              "      <td>NaN</td>\n",
              "      <td>Algeria</td>\n",
              "      <td>2020-06-13 03:33:14</td>\n",
              "      <td>10698.0</td>\n",
              "      <td>751.0</td>\n",
              "      <td>7322.0</td>\n",
              "    </tr>\n",
              "    <tr>\n",
              "      <th>40079</th>\n",
              "      <td>40080</td>\n",
              "      <td>2020-06-12</td>\n",
              "      <td>NaN</td>\n",
              "      <td>Andorra</td>\n",
              "      <td>2020-06-13 03:33:14</td>\n",
              "      <td>853.0</td>\n",
              "      <td>51.0</td>\n",
              "      <td>781.0</td>\n",
              "    </tr>\n",
              "    <tr>\n",
              "      <th>40080</th>\n",
              "      <td>40081</td>\n",
              "      <td>2020-06-12</td>\n",
              "      <td>NaN</td>\n",
              "      <td>Angola</td>\n",
              "      <td>2020-06-13 03:33:14</td>\n",
              "      <td>130.0</td>\n",
              "      <td>5.0</td>\n",
              "      <td>42.0</td>\n",
              "    </tr>\n",
              "    <tr>\n",
              "      <th>...</th>\n",
              "      <td>...</td>\n",
              "      <td>...</td>\n",
              "      <td>...</td>\n",
              "      <td>...</td>\n",
              "      <td>...</td>\n",
              "      <td>...</td>\n",
              "      <td>...</td>\n",
              "      <td>...</td>\n",
              "    </tr>\n",
              "    <tr>\n",
              "      <th>40800</th>\n",
              "      <td>40801</td>\n",
              "      <td>2020-06-12</td>\n",
              "      <td>Zacatecas</td>\n",
              "      <td>Mexico</td>\n",
              "      <td>2020-06-13 03:33:14</td>\n",
              "      <td>501.0</td>\n",
              "      <td>55.0</td>\n",
              "      <td>279.0</td>\n",
              "    </tr>\n",
              "    <tr>\n",
              "      <th>40801</th>\n",
              "      <td>40802</td>\n",
              "      <td>2020-06-12</td>\n",
              "      <td>Zakarpattia Oblast</td>\n",
              "      <td>Ukraine</td>\n",
              "      <td>2020-06-13 03:33:14</td>\n",
              "      <td>1506.0</td>\n",
              "      <td>38.0</td>\n",
              "      <td>675.0</td>\n",
              "    </tr>\n",
              "    <tr>\n",
              "      <th>40802</th>\n",
              "      <td>40803</td>\n",
              "      <td>2020-06-12</td>\n",
              "      <td>Zaporizhia Oblast</td>\n",
              "      <td>Ukraine</td>\n",
              "      <td>2020-06-13 03:33:14</td>\n",
              "      <td>515.0</td>\n",
              "      <td>15.0</td>\n",
              "      <td>322.0</td>\n",
              "    </tr>\n",
              "    <tr>\n",
              "      <th>40803</th>\n",
              "      <td>40804</td>\n",
              "      <td>2020-06-12</td>\n",
              "      <td>Zhejiang</td>\n",
              "      <td>Mainland China</td>\n",
              "      <td>2020-06-13 03:33:14</td>\n",
              "      <td>1268.0</td>\n",
              "      <td>1.0</td>\n",
              "      <td>1267.0</td>\n",
              "    </tr>\n",
              "    <tr>\n",
              "      <th>40804</th>\n",
              "      <td>40805</td>\n",
              "      <td>2020-06-12</td>\n",
              "      <td>Zhytomyr Oblast</td>\n",
              "      <td>Ukraine</td>\n",
              "      <td>2020-06-13 03:33:14</td>\n",
              "      <td>1013.0</td>\n",
              "      <td>17.0</td>\n",
              "      <td>527.0</td>\n",
              "    </tr>\n",
              "  </tbody>\n",
              "</table>\n",
              "<p>729 rows × 8 columns</p>\n",
              "</div>"
            ],
            "text/plain": [
              "         SNo ObservationDate      Province/State  ... Confirmed Deaths  Recovered\n",
              "40076  40077      2020-06-12                 NaN  ...   23546.0  446.0     3928.0\n",
              "40077  40078      2020-06-12                 NaN  ...    1416.0   36.0     1034.0\n",
              "40078  40079      2020-06-12                 NaN  ...   10698.0  751.0     7322.0\n",
              "40079  40080      2020-06-12                 NaN  ...     853.0   51.0      781.0\n",
              "40080  40081      2020-06-12                 NaN  ...     130.0    5.0       42.0\n",
              "...      ...             ...                 ...  ...       ...    ...        ...\n",
              "40800  40801      2020-06-12           Zacatecas  ...     501.0   55.0      279.0\n",
              "40801  40802      2020-06-12  Zakarpattia Oblast  ...    1506.0   38.0      675.0\n",
              "40802  40803      2020-06-12   Zaporizhia Oblast  ...     515.0   15.0      322.0\n",
              "40803  40804      2020-06-12            Zhejiang  ...    1268.0    1.0     1267.0\n",
              "40804  40805      2020-06-12     Zhytomyr Oblast  ...    1013.0   17.0      527.0\n",
              "\n",
              "[729 rows x 8 columns]"
            ]
          },
          "metadata": {},
          "execution_count": 28
        }
      ]
    },
    {
      "cell_type": "code",
      "metadata": {
        "colab": {
          "base_uri": "https://localhost:8080/"
        },
        "id": "aHuhBPgL8YFU",
        "outputId": "da522140-f025-4470-a126-bef257277d09"
      },
      "source": [
        "print(updated_data.shape[0])"
      ],
      "execution_count": 30,
      "outputs": [
        {
          "output_type": "stream",
          "name": "stdout",
          "text": [
            "729\n"
          ]
        }
      ]
    },
    {
      "cell_type": "code",
      "metadata": {
        "colab": {
          "base_uri": "https://localhost:8080/"
        },
        "id": "o7llSmo8K87E",
        "outputId": "72572f16-6e57-48e0-8908-839776e4c063"
      },
      "source": [
        "pd.unique(updated_data['Country/Region'])"
      ],
      "execution_count": 46,
      "outputs": [
        {
          "output_type": "execute_result",
          "data": {
            "text/plain": [
              "array(['Afghanistan', 'Albania', 'Algeria', 'Andorra', 'Angola',\n",
              "       'Antigua and Barbuda', 'Argentina', 'Armenia', 'Austria',\n",
              "       'Azerbaijan', 'Bahamas', 'Bahrain', 'Bangladesh', 'Barbados',\n",
              "       'Belarus', 'Belgium', 'Belize', 'Benin', 'Bhutan', 'Bolivia',\n",
              "       'Bosnia and Herzegovina', 'Botswana', 'Brunei', 'Bulgaria',\n",
              "       'Burkina Faso', 'Burma', 'Burundi', 'Cabo Verde', 'Cambodia',\n",
              "       'Cameroon', 'Central African Republic', 'Chad', 'Comoros',\n",
              "       'Congo (Brazzaville)', 'Congo (Kinshasa)', 'Costa Rica', 'Croatia',\n",
              "       'Cuba', 'Cyprus', 'Czech Republic', 'Denmark', 'Diamond Princess',\n",
              "       'Djibouti', 'Dominica', 'Dominican Republic', 'Ecuador', 'Egypt',\n",
              "       'El Salvador', 'Equatorial Guinea', 'Eritrea', 'Estonia',\n",
              "       'Eswatini', 'Ethiopia', 'Fiji', 'Finland', 'France', 'Gabon',\n",
              "       'Gambia', 'Georgia', 'Ghana', 'Greece', 'Grenada', 'Guatemala',\n",
              "       'Guinea', 'Guinea-Bissau', 'Guyana', 'Haiti', 'Holy See',\n",
              "       'Honduras', 'Hungary', 'Iceland', 'Indonesia', 'Iran', 'Iraq',\n",
              "       'Ireland', 'Israel', 'Ivory Coast', 'Jamaica', 'Jordan',\n",
              "       'Kazakhstan', 'Kenya', 'Kosovo', 'Kuwait', 'Kyrgyzstan', 'Laos',\n",
              "       'Latvia', 'Lebanon', 'Lesotho', 'Liberia', 'Libya',\n",
              "       'Liechtenstein', 'Lithuania', 'Luxembourg', 'MS Zaandam',\n",
              "       'Madagascar', 'Malawi', 'Malaysia', 'Maldives', 'Mali', 'Malta',\n",
              "       'Mauritania', 'Mauritius', 'Moldova', 'Monaco', 'Mongolia',\n",
              "       'Montenegro', 'Morocco', 'Mozambique', 'Namibia', 'Nepal',\n",
              "       'Netherlands', 'New Zealand', 'Nicaragua', 'Niger', 'Nigeria',\n",
              "       'North Macedonia', 'Norway', 'Oman', 'Panama', 'Papua New Guinea',\n",
              "       'Paraguay', 'Philippines', 'Poland', 'Portugal', 'Qatar',\n",
              "       'Romania', 'Rwanda', 'Saint Kitts and Nevis', 'Saint Lucia',\n",
              "       'Saint Vincent and the Grenadines', 'San Marino',\n",
              "       'Sao Tome and Principe', 'Saudi Arabia', 'Senegal', 'Serbia',\n",
              "       'Seychelles', 'Sierra Leone', 'Singapore', 'Slovakia', 'Slovenia',\n",
              "       'Somalia', 'South Africa', 'South Korea', 'South Sudan',\n",
              "       'Sri Lanka', 'Sudan', 'Suriname', 'Switzerland', 'Syria', 'Taiwan',\n",
              "       'Tajikistan', 'Tanzania', 'Thailand', 'Timor-Leste', 'Togo',\n",
              "       'Trinidad and Tobago', 'Tunisia', 'Turkey', 'Uganda',\n",
              "       'United Arab Emirates', 'Uruguay', 'Uzbekistan', 'Venezuela',\n",
              "       'Vietnam', 'West Bank and Gaza', 'Western Sahara', 'Yemen',\n",
              "       'Zambia', 'Zimbabwe', 'Italy', 'Brazil', 'Russia', 'Mexico',\n",
              "       'Japan', 'US', 'Canada', 'Colombia', 'Peru', 'Spain', 'India',\n",
              "       'UK', 'Mainland China', 'Chile', 'Australia', 'Pakistan',\n",
              "       'Germany', 'Sweden', 'Ukraine', 'Hong Kong', 'Macau'], dtype=object)"
            ]
          },
          "metadata": {},
          "execution_count": 46
        }
      ]
    },
    {
      "cell_type": "code",
      "metadata": {
        "colab": {
          "base_uri": "https://localhost:8080/"
        },
        "id": "KqCNEQHKJ44L",
        "outputId": "59efb87e-7752-4879-9e4e-ca3797877461"
      },
      "source": [
        "pd.unique(updated_data['Country/Region']).shape"
      ],
      "execution_count": 45,
      "outputs": [
        {
          "output_type": "execute_result",
          "data": {
            "text/plain": [
              "(190,)"
            ]
          },
          "metadata": {},
          "execution_count": 45
        }
      ]
    },
    {
      "cell_type": "markdown",
      "metadata": {
        "id": "Sdcu_ll4WRCz"
      },
      "source": [
        "### **Task 3**\n",
        "* Create a subset of data from the dataframe **updated_data**, only taking the top 10 countries which have the maximum number of confirmed cases with features - **'Country/Region', 'Confirmed', 'Deaths' and 'Recovered'**. Name this dataframe as 'top_10'\n",
        "\n",
        "* print the name of the countries in 'top_10' dataset\n",
        "* Which country has the lowest number of confirmed cases among the ten countries in top_10 dataframe?\n",
        "Hint: use groupby() to group all the observations with same country, sum all the observations and then sort the dataframe by confirmed cases."
      ]
    },
    {
      "cell_type": "code",
      "metadata": {
        "id": "x9B4-k7aPjyq"
      },
      "source": [
        "modified = updated_data.groupby('Country/Region').sum('Confirmed').sort_values(by='Confirmed', ascending=False).head(10)"
      ],
      "execution_count": 84,
      "outputs": []
    },
    {
      "cell_type": "code",
      "metadata": {
        "colab": {
          "base_uri": "https://localhost:8080/",
          "height": 394
        },
        "id": "9zxmBfLJPvYk",
        "outputId": "4efd612f-efbb-4249-aea8-ddcfbc870e26"
      },
      "source": [
        "modified"
      ],
      "execution_count": 86,
      "outputs": [
        {
          "output_type": "execute_result",
          "data": {
            "text/html": [
              "<div>\n",
              "<style scoped>\n",
              "    .dataframe tbody tr th:only-of-type {\n",
              "        vertical-align: middle;\n",
              "    }\n",
              "\n",
              "    .dataframe tbody tr th {\n",
              "        vertical-align: top;\n",
              "    }\n",
              "\n",
              "    .dataframe thead th {\n",
              "        text-align: right;\n",
              "    }\n",
              "</style>\n",
              "<table border=\"1\" class=\"dataframe\">\n",
              "  <thead>\n",
              "    <tr style=\"text-align: right;\">\n",
              "      <th></th>\n",
              "      <th>SNo</th>\n",
              "      <th>Confirmed</th>\n",
              "      <th>Deaths</th>\n",
              "      <th>Recovered</th>\n",
              "    </tr>\n",
              "    <tr>\n",
              "      <th>Country/Region</th>\n",
              "      <th></th>\n",
              "      <th></th>\n",
              "      <th></th>\n",
              "      <th></th>\n",
              "    </tr>\n",
              "  </thead>\n",
              "  <tbody>\n",
              "    <tr>\n",
              "      <th>US</th>\n",
              "      <td>2351413</td>\n",
              "      <td>2048986.0</td>\n",
              "      <td>114669.0</td>\n",
              "      <td>547386.0</td>\n",
              "    </tr>\n",
              "    <tr>\n",
              "      <th>Brazil</th>\n",
              "      <td>1094094</td>\n",
              "      <td>828810.0</td>\n",
              "      <td>41828.0</td>\n",
              "      <td>445123.0</td>\n",
              "    </tr>\n",
              "    <tr>\n",
              "      <th>Russia</th>\n",
              "      <td>3365442</td>\n",
              "      <td>510761.0</td>\n",
              "      <td>6705.0</td>\n",
              "      <td>268862.0</td>\n",
              "    </tr>\n",
              "    <tr>\n",
              "      <th>India</th>\n",
              "      <td>1458478</td>\n",
              "      <td>297535.0</td>\n",
              "      <td>8498.0</td>\n",
              "      <td>147195.0</td>\n",
              "    </tr>\n",
              "    <tr>\n",
              "      <th>UK</th>\n",
              "      <td>607266</td>\n",
              "      <td>294402.0</td>\n",
              "      <td>41566.0</td>\n",
              "      <td>1282.0</td>\n",
              "    </tr>\n",
              "    <tr>\n",
              "      <th>Spain</th>\n",
              "      <td>808238</td>\n",
              "      <td>243209.0</td>\n",
              "      <td>27136.0</td>\n",
              "      <td>150376.0</td>\n",
              "    </tr>\n",
              "    <tr>\n",
              "      <th>Italy</th>\n",
              "      <td>851428</td>\n",
              "      <td>236305.0</td>\n",
              "      <td>34223.0</td>\n",
              "      <td>173085.0</td>\n",
              "    </tr>\n",
              "    <tr>\n",
              "      <th>Peru</th>\n",
              "      <td>1052718</td>\n",
              "      <td>214788.0</td>\n",
              "      <td>6088.0</td>\n",
              "      <td>107133.0</td>\n",
              "    </tr>\n",
              "    <tr>\n",
              "      <th>France</th>\n",
              "      <td>445634</td>\n",
              "      <td>193220.0</td>\n",
              "      <td>29377.0</td>\n",
              "      <td>72695.0</td>\n",
              "    </tr>\n",
              "    <tr>\n",
              "      <th>Germany</th>\n",
              "      <td>688860</td>\n",
              "      <td>187226.0</td>\n",
              "      <td>8783.0</td>\n",
              "      <td>171535.0</td>\n",
              "    </tr>\n",
              "  </tbody>\n",
              "</table>\n",
              "</div>"
            ],
            "text/plain": [
              "                    SNo  Confirmed    Deaths  Recovered\n",
              "Country/Region                                         \n",
              "US              2351413  2048986.0  114669.0   547386.0\n",
              "Brazil          1094094   828810.0   41828.0   445123.0\n",
              "Russia          3365442   510761.0    6705.0   268862.0\n",
              "India           1458478   297535.0    8498.0   147195.0\n",
              "UK               607266   294402.0   41566.0     1282.0\n",
              "Spain            808238   243209.0   27136.0   150376.0\n",
              "Italy            851428   236305.0   34223.0   173085.0\n",
              "Peru            1052718   214788.0    6088.0   107133.0\n",
              "France           445634   193220.0   29377.0    72695.0\n",
              "Germany          688860   187226.0    8783.0   171535.0"
            ]
          },
          "metadata": {},
          "execution_count": 86
        }
      ]
    },
    {
      "cell_type": "code",
      "metadata": {
        "id": "Cr0y2DrdLssw"
      },
      "source": [
        "top_10 = modified[['Confirmed','Deaths', 'Recovered']]"
      ],
      "execution_count": 91,
      "outputs": []
    },
    {
      "cell_type": "code",
      "metadata": {
        "colab": {
          "base_uri": "https://localhost:8080/",
          "height": 394
        },
        "id": "1sxSXedmLpGB",
        "outputId": "90b7e1b9-6d9c-4c39-f43c-ff1e2a8d2610"
      },
      "source": [
        "top_10"
      ],
      "execution_count": 93,
      "outputs": [
        {
          "output_type": "execute_result",
          "data": {
            "text/html": [
              "<div>\n",
              "<style scoped>\n",
              "    .dataframe tbody tr th:only-of-type {\n",
              "        vertical-align: middle;\n",
              "    }\n",
              "\n",
              "    .dataframe tbody tr th {\n",
              "        vertical-align: top;\n",
              "    }\n",
              "\n",
              "    .dataframe thead th {\n",
              "        text-align: right;\n",
              "    }\n",
              "</style>\n",
              "<table border=\"1\" class=\"dataframe\">\n",
              "  <thead>\n",
              "    <tr style=\"text-align: right;\">\n",
              "      <th></th>\n",
              "      <th>Confirmed</th>\n",
              "      <th>Deaths</th>\n",
              "      <th>Recovered</th>\n",
              "    </tr>\n",
              "    <tr>\n",
              "      <th>Country/Region</th>\n",
              "      <th></th>\n",
              "      <th></th>\n",
              "      <th></th>\n",
              "    </tr>\n",
              "  </thead>\n",
              "  <tbody>\n",
              "    <tr>\n",
              "      <th>US</th>\n",
              "      <td>2048986.0</td>\n",
              "      <td>114669.0</td>\n",
              "      <td>547386.0</td>\n",
              "    </tr>\n",
              "    <tr>\n",
              "      <th>Brazil</th>\n",
              "      <td>828810.0</td>\n",
              "      <td>41828.0</td>\n",
              "      <td>445123.0</td>\n",
              "    </tr>\n",
              "    <tr>\n",
              "      <th>Russia</th>\n",
              "      <td>510761.0</td>\n",
              "      <td>6705.0</td>\n",
              "      <td>268862.0</td>\n",
              "    </tr>\n",
              "    <tr>\n",
              "      <th>India</th>\n",
              "      <td>297535.0</td>\n",
              "      <td>8498.0</td>\n",
              "      <td>147195.0</td>\n",
              "    </tr>\n",
              "    <tr>\n",
              "      <th>UK</th>\n",
              "      <td>294402.0</td>\n",
              "      <td>41566.0</td>\n",
              "      <td>1282.0</td>\n",
              "    </tr>\n",
              "    <tr>\n",
              "      <th>Spain</th>\n",
              "      <td>243209.0</td>\n",
              "      <td>27136.0</td>\n",
              "      <td>150376.0</td>\n",
              "    </tr>\n",
              "    <tr>\n",
              "      <th>Italy</th>\n",
              "      <td>236305.0</td>\n",
              "      <td>34223.0</td>\n",
              "      <td>173085.0</td>\n",
              "    </tr>\n",
              "    <tr>\n",
              "      <th>Peru</th>\n",
              "      <td>214788.0</td>\n",
              "      <td>6088.0</td>\n",
              "      <td>107133.0</td>\n",
              "    </tr>\n",
              "    <tr>\n",
              "      <th>France</th>\n",
              "      <td>193220.0</td>\n",
              "      <td>29377.0</td>\n",
              "      <td>72695.0</td>\n",
              "    </tr>\n",
              "    <tr>\n",
              "      <th>Germany</th>\n",
              "      <td>187226.0</td>\n",
              "      <td>8783.0</td>\n",
              "      <td>171535.0</td>\n",
              "    </tr>\n",
              "  </tbody>\n",
              "</table>\n",
              "</div>"
            ],
            "text/plain": [
              "                Confirmed    Deaths  Recovered\n",
              "Country/Region                                \n",
              "US              2048986.0  114669.0   547386.0\n",
              "Brazil           828810.0   41828.0   445123.0\n",
              "Russia           510761.0    6705.0   268862.0\n",
              "India            297535.0    8498.0   147195.0\n",
              "UK               294402.0   41566.0     1282.0\n",
              "Spain            243209.0   27136.0   150376.0\n",
              "Italy            236305.0   34223.0   173085.0\n",
              "Peru             214788.0    6088.0   107133.0\n",
              "France           193220.0   29377.0    72695.0\n",
              "Germany          187226.0    8783.0   171535.0"
            ]
          },
          "metadata": {},
          "execution_count": 93
        }
      ]
    },
    {
      "cell_type": "code",
      "metadata": {
        "colab": {
          "base_uri": "https://localhost:8080/"
        },
        "id": "S3zQcPtWRPeK",
        "outputId": "f16187d6-3657-4b60-a2d5-4ba1ca488a3c"
      },
      "source": [
        "print(top_10.index)"
      ],
      "execution_count": 104,
      "outputs": [
        {
          "output_type": "stream",
          "name": "stdout",
          "text": [
            "Index(['US', 'Brazil', 'Russia', 'India', 'UK', 'Spain', 'Italy', 'Peru',\n",
            "       'France', 'Germany'],\n",
            "      dtype='object', name='Country/Region')\n"
          ]
        }
      ]
    },
    {
      "cell_type": "code",
      "metadata": {
        "colab": {
          "base_uri": "https://localhost:8080/"
        },
        "id": "GddBpc-HSJuE",
        "outputId": "40052e97-234f-4372-c95b-17bb812f5cb1"
      },
      "source": [
        "print(top_10.index.tolist())"
      ],
      "execution_count": 106,
      "outputs": [
        {
          "output_type": "stream",
          "name": "stdout",
          "text": [
            "['US', 'Brazil', 'Russia', 'India', 'UK', 'Spain', 'Italy', 'Peru', 'France', 'Germany']\n"
          ]
        }
      ]
    },
    {
      "cell_type": "code",
      "metadata": {
        "colab": {
          "base_uri": "https://localhost:8080/"
        },
        "id": "mMHqlhBdSZwy",
        "outputId": "087c40ef-7127-4457-9bc7-c27cd30a275a"
      },
      "source": [
        "print(top_10.tail(1))"
      ],
      "execution_count": 107,
      "outputs": [
        {
          "output_type": "stream",
          "name": "stdout",
          "text": [
            "                Confirmed  Deaths  Recovered\n",
            "Country/Region                              \n",
            "Germany          187226.0  8783.0   171535.0\n"
          ]
        }
      ]
    },
    {
      "cell_type": "code",
      "metadata": {
        "colab": {
          "base_uri": "https://localhost:8080/"
        },
        "id": "TJPk-BmgSgEk",
        "outputId": "3a715e72-bd5b-47f3-bba6-f01e97b2787f"
      },
      "source": [
        "print(top_10.tail(1).index.tolist())\n"
      ],
      "execution_count": 108,
      "outputs": [
        {
          "output_type": "stream",
          "name": "stdout",
          "text": [
            "['Germany']\n"
          ]
        }
      ]
    },
    {
      "cell_type": "markdown",
      "metadata": {
        "id": "nhfzHXPFWd-s"
      },
      "source": [
        "### **Task 4**\n",
        "* Add two columns in 'top_10' dataframe - 'Recovered_percentage' and 'Deaths_percentage' \n",
        "\n",
        "where\n",
        "\n",
        "'Recovered_percentage' = (Recovered cases / Confirmed cases) * 100\n",
        "\n",
        "'Death_percentage' = (Deaths cases / Confirmed cases) * 100\n",
        "\n",
        "* Print the top 3 countries with highest recovery precent"
      ]
    },
    {
      "cell_type": "code",
      "metadata": {
        "id": "BPIaV7i8T5YQ"
      },
      "source": [
        "top_10['Recovered_Percentage'] = top_10['Recovered']/top_10['Confirmed'] * 100\n",
        "top_10['Death_Percentage'] = top_10['Deaths']/top_10['Confirmed'] * 100"
      ],
      "execution_count": 113,
      "outputs": []
    },
    {
      "cell_type": "markdown",
      "metadata": {
        "id": "NF-yvfwzVfC0"
      },
      "source": [
        ""
      ]
    },
    {
      "cell_type": "code",
      "metadata": {
        "colab": {
          "base_uri": "https://localhost:8080/",
          "height": 394
        },
        "id": "3NzkfmWEVdYy",
        "outputId": "2b7dc242-e868-4332-df50-a2b759d3965d"
      },
      "source": [
        "top_10"
      ],
      "execution_count": 114,
      "outputs": [
        {
          "output_type": "execute_result",
          "data": {
            "text/html": [
              "<div>\n",
              "<style scoped>\n",
              "    .dataframe tbody tr th:only-of-type {\n",
              "        vertical-align: middle;\n",
              "    }\n",
              "\n",
              "    .dataframe tbody tr th {\n",
              "        vertical-align: top;\n",
              "    }\n",
              "\n",
              "    .dataframe thead th {\n",
              "        text-align: right;\n",
              "    }\n",
              "</style>\n",
              "<table border=\"1\" class=\"dataframe\">\n",
              "  <thead>\n",
              "    <tr style=\"text-align: right;\">\n",
              "      <th></th>\n",
              "      <th>Confirmed</th>\n",
              "      <th>Deaths</th>\n",
              "      <th>Recovered</th>\n",
              "      <th>Recovered_Percentage</th>\n",
              "      <th>Death_Percentage</th>\n",
              "    </tr>\n",
              "    <tr>\n",
              "      <th>Country/Region</th>\n",
              "      <th></th>\n",
              "      <th></th>\n",
              "      <th></th>\n",
              "      <th></th>\n",
              "      <th></th>\n",
              "    </tr>\n",
              "  </thead>\n",
              "  <tbody>\n",
              "    <tr>\n",
              "      <th>US</th>\n",
              "      <td>2048986.0</td>\n",
              "      <td>114669.0</td>\n",
              "      <td>547386.0</td>\n",
              "      <td>26.714970</td>\n",
              "      <td>5.596378</td>\n",
              "    </tr>\n",
              "    <tr>\n",
              "      <th>Brazil</th>\n",
              "      <td>828810.0</td>\n",
              "      <td>41828.0</td>\n",
              "      <td>445123.0</td>\n",
              "      <td>53.706278</td>\n",
              "      <td>5.046754</td>\n",
              "    </tr>\n",
              "    <tr>\n",
              "      <th>Russia</th>\n",
              "      <td>510761.0</td>\n",
              "      <td>6705.0</td>\n",
              "      <td>268862.0</td>\n",
              "      <td>52.639493</td>\n",
              "      <td>1.312747</td>\n",
              "    </tr>\n",
              "    <tr>\n",
              "      <th>India</th>\n",
              "      <td>297535.0</td>\n",
              "      <td>8498.0</td>\n",
              "      <td>147195.0</td>\n",
              "      <td>49.471491</td>\n",
              "      <td>2.856135</td>\n",
              "    </tr>\n",
              "    <tr>\n",
              "      <th>UK</th>\n",
              "      <td>294402.0</td>\n",
              "      <td>41566.0</td>\n",
              "      <td>1282.0</td>\n",
              "      <td>0.435459</td>\n",
              "      <td>14.118790</td>\n",
              "    </tr>\n",
              "    <tr>\n",
              "      <th>Spain</th>\n",
              "      <td>243209.0</td>\n",
              "      <td>27136.0</td>\n",
              "      <td>150376.0</td>\n",
              "      <td>61.829949</td>\n",
              "      <td>11.157482</td>\n",
              "    </tr>\n",
              "    <tr>\n",
              "      <th>Italy</th>\n",
              "      <td>236305.0</td>\n",
              "      <td>34223.0</td>\n",
              "      <td>173085.0</td>\n",
              "      <td>73.246440</td>\n",
              "      <td>14.482554</td>\n",
              "    </tr>\n",
              "    <tr>\n",
              "      <th>Peru</th>\n",
              "      <td>214788.0</td>\n",
              "      <td>6088.0</td>\n",
              "      <td>107133.0</td>\n",
              "      <td>49.878485</td>\n",
              "      <td>2.834423</td>\n",
              "    </tr>\n",
              "    <tr>\n",
              "      <th>France</th>\n",
              "      <td>193220.0</td>\n",
              "      <td>29377.0</td>\n",
              "      <td>72695.0</td>\n",
              "      <td>37.622917</td>\n",
              "      <td>15.203913</td>\n",
              "    </tr>\n",
              "    <tr>\n",
              "      <th>Germany</th>\n",
              "      <td>187226.0</td>\n",
              "      <td>8783.0</td>\n",
              "      <td>171535.0</td>\n",
              "      <td>91.619220</td>\n",
              "      <td>4.691122</td>\n",
              "    </tr>\n",
              "  </tbody>\n",
              "</table>\n",
              "</div>"
            ],
            "text/plain": [
              "                Confirmed    Deaths  ...  Recovered_Percentage  Death_Percentage\n",
              "Country/Region                       ...                                        \n",
              "US              2048986.0  114669.0  ...             26.714970          5.596378\n",
              "Brazil           828810.0   41828.0  ...             53.706278          5.046754\n",
              "Russia           510761.0    6705.0  ...             52.639493          1.312747\n",
              "India            297535.0    8498.0  ...             49.471491          2.856135\n",
              "UK               294402.0   41566.0  ...              0.435459         14.118790\n",
              "Spain            243209.0   27136.0  ...             61.829949         11.157482\n",
              "Italy            236305.0   34223.0  ...             73.246440         14.482554\n",
              "Peru             214788.0    6088.0  ...             49.878485          2.834423\n",
              "France           193220.0   29377.0  ...             37.622917         15.203913\n",
              "Germany          187226.0    8783.0  ...             91.619220          4.691122\n",
              "\n",
              "[10 rows x 5 columns]"
            ]
          },
          "metadata": {},
          "execution_count": 114
        }
      ]
    },
    {
      "cell_type": "code",
      "metadata": {
        "colab": {
          "base_uri": "https://localhost:8080/",
          "height": 175
        },
        "id": "TWDiAqtKVy-Q",
        "outputId": "97463745-edf6-45a1-eae6-f895e8d24a04"
      },
      "source": [
        "top_10.sort_values(by='Recovered_Percentage', ascending=False).head(3)"
      ],
      "execution_count": 117,
      "outputs": [
        {
          "output_type": "execute_result",
          "data": {
            "text/html": [
              "<div>\n",
              "<style scoped>\n",
              "    .dataframe tbody tr th:only-of-type {\n",
              "        vertical-align: middle;\n",
              "    }\n",
              "\n",
              "    .dataframe tbody tr th {\n",
              "        vertical-align: top;\n",
              "    }\n",
              "\n",
              "    .dataframe thead th {\n",
              "        text-align: right;\n",
              "    }\n",
              "</style>\n",
              "<table border=\"1\" class=\"dataframe\">\n",
              "  <thead>\n",
              "    <tr style=\"text-align: right;\">\n",
              "      <th></th>\n",
              "      <th>Confirmed</th>\n",
              "      <th>Deaths</th>\n",
              "      <th>Recovered</th>\n",
              "      <th>Recovered_Percentage</th>\n",
              "      <th>Death_Percentage</th>\n",
              "    </tr>\n",
              "    <tr>\n",
              "      <th>Country/Region</th>\n",
              "      <th></th>\n",
              "      <th></th>\n",
              "      <th></th>\n",
              "      <th></th>\n",
              "      <th></th>\n",
              "    </tr>\n",
              "  </thead>\n",
              "  <tbody>\n",
              "    <tr>\n",
              "      <th>Germany</th>\n",
              "      <td>187226.0</td>\n",
              "      <td>8783.0</td>\n",
              "      <td>171535.0</td>\n",
              "      <td>91.619220</td>\n",
              "      <td>4.691122</td>\n",
              "    </tr>\n",
              "    <tr>\n",
              "      <th>Italy</th>\n",
              "      <td>236305.0</td>\n",
              "      <td>34223.0</td>\n",
              "      <td>173085.0</td>\n",
              "      <td>73.246440</td>\n",
              "      <td>14.482554</td>\n",
              "    </tr>\n",
              "    <tr>\n",
              "      <th>Spain</th>\n",
              "      <td>243209.0</td>\n",
              "      <td>27136.0</td>\n",
              "      <td>150376.0</td>\n",
              "      <td>61.829949</td>\n",
              "      <td>11.157482</td>\n",
              "    </tr>\n",
              "  </tbody>\n",
              "</table>\n",
              "</div>"
            ],
            "text/plain": [
              "                Confirmed   Deaths  ...  Recovered_Percentage  Death_Percentage\n",
              "Country/Region                      ...                                        \n",
              "Germany          187226.0   8783.0  ...             91.619220          4.691122\n",
              "Italy            236305.0  34223.0  ...             73.246440         14.482554\n",
              "Spain            243209.0  27136.0  ...             61.829949         11.157482\n",
              "\n",
              "[3 rows x 5 columns]"
            ]
          },
          "metadata": {},
          "execution_count": 117
        }
      ]
    },
    {
      "cell_type": "markdown",
      "metadata": {
        "id": "M59pRLv58MoO"
      },
      "source": [
        "##**Scores**\n",
        "\n",
        "Each of the tasks is of 5 mark each and the scores will be given accordingly after the notebook review."
      ]
    }
  ]
}